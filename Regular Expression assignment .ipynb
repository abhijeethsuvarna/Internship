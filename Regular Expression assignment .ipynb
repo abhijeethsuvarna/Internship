{
 "cells": [
  {
   "cell_type": "raw",
   "id": "9a68f088",
   "metadata": {},
   "source": [
    "Question 1- Write a Python program to check that a string contains only a certain set of characters (in this case a-z, A-Z and 0-9)."
   ]
  },
  {
   "cell_type": "code",
   "execution_count": 10,
   "id": "621c6c13",
   "metadata": {},
   "outputs": [
    {
     "name": "stdout",
     "output_type": "stream",
     "text": [
      "Enter a string: Abhijeeth@gmail.com\n",
      "String contains other characters.\n"
     ]
    }
   ],
   "source": [
    "import regex as re\n",
    "\n",
    "def contains_only_allowed_characters(string):\n",
    "    pattern = r'^[a-zA-Z0-9]+$'\n",
    "    return re.match(pattern, string) is not None\n",
    "\n",
    "# Test the function\n",
    "test_string = input(\"Enter a string: \")\n",
    "if contains_only_allowed_characters(test_string):\n",
    "    print(\"String contains only allowed characters.\")\n",
    "else:\n",
    "    print(\"String contains other characters.\")\n"
   ]
  },
  {
   "cell_type": "raw",
   "id": "d3ec6772",
   "metadata": {},
   "source": [
    "Question 2- Create a function in python that matches a string that has an a followed by zero or more b's"
   ]
  },
  {
   "cell_type": "code",
   "execution_count": 7,
   "id": "f04348bf",
   "metadata": {},
   "outputs": [
    {
     "name": "stdout",
     "output_type": "stream",
     "text": [
      "Enter a string: ab\n",
      "String matches the pattern.\n"
     ]
    }
   ],
   "source": [
    "import regex as re\n",
    "\n",
    "def match_pattern(string):\n",
    "    pattern = r'^ab*$'\n",
    "    return re.match(pattern, string) is not None\n",
    "\n",
    "# Test the function\n",
    "test_string = input(\"Enter a string: \")\n",
    "if match_pattern(test_string):\n",
    "    print(\"String matches the pattern.\")\n",
    "else:\n",
    "    print(\"String does not match the pattern.\")\n"
   ]
  },
  {
   "cell_type": "raw",
   "id": "e880eaf8",
   "metadata": {},
   "source": [
    "Question 3-  Create a function in python that matches a string that has an a followed by one or more b's"
   ]
  },
  {
   "cell_type": "code",
   "execution_count": 5,
   "id": "9d190620",
   "metadata": {},
   "outputs": [
    {
     "name": "stdout",
     "output_type": "stream",
     "text": [
      "Enter a string: abb\n",
      "String matches the pattern.\n"
     ]
    }
   ],
   "source": [
    "import re\n",
    "\n",
    "def match_pattern(string):\n",
    "    pattern = r'^ab*$'\n",
    "    return re.match(pattern, string) is not None\n",
    "\n",
    "# Test the function\n",
    "test_string = input(\"Enter a string: \")\n",
    "if match_pattern(test_string):\n",
    "    print(\"String matches the pattern.\")\n",
    "else:\n",
    "    print(\"String does not match the pattern.\")\n"
   ]
  },
  {
   "cell_type": "raw",
   "id": "57d4f0f8",
   "metadata": {},
   "source": [
    "Question 4- Create a function in Python and use RegEx that matches a string that has an a followed by zero or one 'b'."
   ]
  },
  {
   "cell_type": "code",
   "execution_count": 9,
   "id": "53191ef4",
   "metadata": {},
   "outputs": [
    {
     "name": "stdout",
     "output_type": "stream",
     "text": [
      "Enter a string: ab\n",
      "String matches the pattern.\n"
     ]
    }
   ],
   "source": [
    "import re\n",
    "\n",
    "def match_pattern(string):\n",
    "    pattern = r'^a[b]?$'\n",
    "    return re.match(pattern, string) is not None\n",
    "\n",
    "# Test the function\n",
    "test_string = input(\"Enter a string: \")\n",
    "if match_pattern(test_string):\n",
    "    print(\"String matches the pattern.\")\n",
    "else:\n",
    "    print(\"String does not match the pattern.\")\n",
    "\n"
   ]
  },
  {
   "cell_type": "raw",
   "id": "9038f194",
   "metadata": {},
   "source": [
    "Question 5- Write a Python program that matches a string that has an a followed by three 'b'."
   ]
  },
  {
   "cell_type": "code",
   "execution_count": 7,
   "id": "95558935",
   "metadata": {},
   "outputs": [
    {
     "name": "stdout",
     "output_type": "stream",
     "text": [
      "Enter a string: abbb\n",
      "String matches the pattern.\n"
     ]
    }
   ],
   "source": [
    "import re\n",
    "\n",
    "def match_pattern(string):\n",
    "    pattern = r'^abbb$'\n",
    "    return re.match(pattern, string) is not None\n",
    "\n",
    "# Test the function\n",
    "test_string = input(\"Enter a string: \")\n",
    "if match_pattern(test_string):\n",
    "    print(\"String matches the pattern.\")\n",
    "else:\n",
    "    print(\"String does not match the pattern.\")\n"
   ]
  },
  {
   "cell_type": "raw",
   "id": "afda7e97",
   "metadata": {},
   "source": [
    "Question 6- Write a regular expression in Python to split a string into uppercase letters."
   ]
  },
  {
   "cell_type": "code",
   "execution_count": 11,
   "id": "b10cb940",
   "metadata": {},
   "outputs": [
    {
     "name": "stdout",
     "output_type": "stream",
     "text": [
      "Enter a string: abhIJEETH\n",
      "['abh', 'I', 'J', 'E', 'E', 'T', 'H']\n"
     ]
    }
   ],
   "source": [
    "import re\n",
    "\n",
    "def split_uppercase(string):\n",
    "    pattern = r'(?=[A-Z])'\n",
    "    return re.split(pattern, string)\n",
    "\n",
    "# Test the function\n",
    "test_string = input(\"Enter a string: \")\n",
    "result = split_uppercase(test_string)\n",
    "print(result)\n"
   ]
  },
  {
   "cell_type": "raw",
   "id": "843c7393",
   "metadata": {},
   "source": [
    "Question 7- Write a Python program that matches a string that has an a followed by two to three 'b'."
   ]
  },
  {
   "cell_type": "code",
   "execution_count": 3,
   "id": "c4aa4275",
   "metadata": {},
   "outputs": [
    {
     "name": "stdout",
     "output_type": "stream",
     "text": [
      "Enter a string: abb\n",
      "String matches the pattern.\n"
     ]
    }
   ],
   "source": [
    "import re\n",
    "\n",
    "def match_pattern(string):\n",
    "    pattern = r'^ab{2,3}$'\n",
    "    return re.match(pattern, string) is not None\n",
    "\n",
    "# Test the function\n",
    "test_string = input(\"Enter a string: \")\n",
    "if match_pattern(test_string):\n",
    "    print(\"String matches the pattern.\")\n",
    "else:\n",
    "    print(\"String does not match the pattern.\")\n"
   ]
  },
  {
   "cell_type": "raw",
   "id": "18a06f78",
   "metadata": {},
   "source": [
    "Question 8- Write a Python program to find sequences of lowercase letters joined with a underscore."
   ]
  },
  {
   "cell_type": "code",
   "execution_count": 12,
   "id": "f092a3c5",
   "metadata": {},
   "outputs": [
    {
     "name": "stdout",
     "output_type": "stream",
     "text": [
      "Enter a string: abhi_abhi_ABHI\n",
      "Sequences found: ['abhi_abhi']\n"
     ]
    }
   ],
   "source": [
    "import re\n",
    "\n",
    "def find_sequences(string):\n",
    "    pattern = r'[a-z]+_[a-z]+'\n",
    "    return re.findall(pattern, string)\n",
    "\n",
    "# Test the function\n",
    "test_string = input(\"Enter a string: \")\n",
    "result = find_sequences(test_string)\n",
    "print(\"Sequences found:\", result)\n"
   ]
  },
  {
   "cell_type": "raw",
   "id": "1511c40e",
   "metadata": {},
   "source": [
    "Question 9- Write a Python program that matches a string that has an 'a' followed by anything, ending in 'b'."
   ]
  },
  {
   "cell_type": "code",
   "execution_count": 13,
   "id": "0041f096",
   "metadata": {},
   "outputs": [
    {
     "name": "stdout",
     "output_type": "stream",
     "text": [
      "Enter a string: abhijethb\n",
      "String matches the pattern.\n"
     ]
    }
   ],
   "source": [
    "import re\n",
    "\n",
    "def match_pattern(string):\n",
    "    pattern = r'^a.*b$'\n",
    "    return re.match(pattern, string) is not None\n",
    "\n",
    "# Test the function\n",
    "test_string = input(\"Enter a string: \")\n",
    "if match_pattern(test_string):\n",
    "    print(\"String matches the pattern.\")\n",
    "else:\n",
    "    print(\"String does not match the pattern.\")"
   ]
  },
  {
   "cell_type": "raw",
   "id": "4d53ebcd",
   "metadata": {},
   "source": [
    "Question 10- Write a Python program that matches a word at the beginning of a string."
   ]
  },
  {
   "cell_type": "code",
   "execution_count": 14,
   "id": "360bd0ef",
   "metadata": {},
   "outputs": [
    {
     "name": "stdout",
     "output_type": "stream",
     "text": [
      "Enter a string: abhi\n",
      "String matches the pattern.\n"
     ]
    }
   ],
   "source": [
    "import re\n",
    "\n",
    "def match_pattern(string):\n",
    "    pattern = r'^\\w+'\n",
    "    return re.match(pattern, string) is not None\n",
    "\n",
    "# Test the function\n",
    "test_string = input(\"Enter a string: \")\n",
    "if match_pattern(test_string):\n",
    "    print(\"String matches the pattern.\")\n",
    "else:\n",
    "    print(\"String does not match the pattern.\")\n"
   ]
  },
  {
   "cell_type": "raw",
   "id": "29079d0a",
   "metadata": {},
   "source": [
    "Question 11- Write a Python program to match a string that contains only upper and lowercase letters, numbers, and underscores."
   ]
  },
  {
   "cell_type": "code",
   "execution_count": 15,
   "id": "9c9abca5",
   "metadata": {},
   "outputs": [
    {
     "name": "stdout",
     "output_type": "stream",
     "text": [
      "Enter a string: Abhijeeth7_\n",
      "String matches the pattern.\n"
     ]
    }
   ],
   "source": [
    "import re\n",
    "\n",
    "def match_pattern(string):\n",
    "    pattern = r'^[a-zA-Z0-9_]+$'\n",
    "    return re.match(pattern, string) is not None\n",
    "\n",
    "# Test the function\n",
    "test_string = input(\"Enter a string: \")\n",
    "if match_pattern(test_string):\n",
    "    print(\"String matches the pattern.\")\n",
    "else:\n",
    "    print(\"String does not match the pattern.\")\n"
   ]
  },
  {
   "cell_type": "raw",
   "id": "27e701a8",
   "metadata": {},
   "source": [
    "Question 12- Write a Python program where a string will start with a specific number. "
   ]
  },
  {
   "cell_type": "code",
   "execution_count": 16,
   "id": "586e4e85",
   "metadata": {},
   "outputs": [
    {
     "name": "stdout",
     "output_type": "stream",
     "text": [
      "Enter a string: 6@gmail.com\n",
      "Enter a specific number: 6\n",
      "String starts with the specific number.\n"
     ]
    }
   ],
   "source": [
    "def match_pattern(string, specific_number):\n",
    "    return string.startswith(str(specific_number))\n",
    "\n",
    "# Test the function\n",
    "test_string = input(\"Enter a string: \")\n",
    "number = int(input(\"Enter a specific number: \"))\n",
    "if match_pattern(test_string, number):\n",
    "    print(\"String starts with the specific number.\")\n",
    "else:\n",
    "    print(\"String does not start with the specific number.\")\n"
   ]
  },
  {
   "cell_type": "raw",
   "id": "44a74a93",
   "metadata": {},
   "source": [
    "Question 13- Write a Python program to remove leading zeros from an IP address"
   ]
  },
  {
   "cell_type": "code",
   "execution_count": 17,
   "id": "25397fa4",
   "metadata": {},
   "outputs": [
    {
     "name": "stdout",
     "output_type": "stream",
     "text": [
      "Enter ip address192.168.005.001\n",
      "192.168.5.1\n"
     ]
    }
   ],
   "source": [
    "def remove_leading_zeros(ip_address):\n",
    "    # Split the IP address into individual octets\n",
    "    octets = ip_address.split('.')\n",
    "\n",
    "    # Remove leading zeros from each octet\n",
    "    cleaned_octets = [str(int(octet)) for octet in octets]\n",
    "\n",
    "    # Join the cleaned octets back together\n",
    "    cleaned_ip = '.'.join(cleaned_octets)\n",
    "\n",
    "    return cleaned_ip\n",
    "\n",
    "\n",
    "# Test the function\n",
    "ip_address =input(\"Enter ip address\")\n",
    "cleaned_ip = remove_leading_zeros(ip_address)\n",
    "print(cleaned_ip)"
   ]
  },
  {
   "cell_type": "raw",
   "id": "ca4c3aab",
   "metadata": {},
   "source": [
    "\n",
    "Question 14- Write a regular expression in python to match a date string in the form of Month name followed by day number and year stored in a text file.\n",
    "\n",
    "Sample text : ' On August 15th 1947 that India was declared independent from British colonialism, and the reins of control were handed over to the leaders of the Country’.\n",
    "Output- August 15th 1947\n",
    "Hint- Use re.match() method here\n"
   ]
  },
  {
   "cell_type": "code",
   "execution_count": 3,
   "id": "6a67d779",
   "metadata": {},
   "outputs": [
    {
     "name": "stdout",
     "output_type": "stream",
     "text": [
      "No match found.\n"
     ]
    }
   ],
   "source": [
    "import re\n",
    "\n",
    "text = \"On August 15th 1947 that India was declared independent from British colonialism, and the reins of control were handed over to the leaders of the Country\"\n",
    "\n",
    "date_pattern = r\"\\b[A-Za-z]+\\s\\d{1,2}(?:st|nd|rd|th)?\\s\\d{4}\\b\"\n",
    "match = re.match(date_pattern, text)\n",
    "\n",
    "if match:\n",
    "    print(match.group())\n",
    "else:\n",
    "    print(\"No match found.\")\n"
   ]
  },
  {
   "cell_type": "raw",
   "id": "03fa7167",
   "metadata": {},
   "source": [
    "Question 15- Write a Python program to search some literals strings in a string. Go to the editor\n",
    "\n",
    "Sample text : 'The quick brown fox jumps over the lazy dog.'\n",
    "Searched words : 'fox', 'dog', 'horse'"
   ]
  },
  {
   "cell_type": "code",
   "execution_count": 19,
   "id": "f0acfa2c",
   "metadata": {},
   "outputs": [
    {
     "name": "stdout",
     "output_type": "stream",
     "text": [
      "Found strings: ['apple', 'banana']\n"
     ]
    }
   ],
   "source": [
    "def search_literals(strings, text):\n",
    "    found_strings = []\n",
    "    for string in strings:\n",
    "        if string in text:\n",
    "            found_strings.append(string)\n",
    "    return found_strings\n",
    "\n",
    "# Example usage\n",
    "strings_to_search = ['apple', 'banana', 'cherry']\n",
    "text_to_search = 'I like to eat an apple and a banana every day.'\n",
    "found_strings = search_literals(strings_to_search, text_to_search)\n",
    "print(\"Found strings:\", found_strings)"
   ]
  },
  {
   "cell_type": "raw",
   "id": "b1c9fd26",
   "metadata": {},
   "source": [
    "Question 16- Write a Python program to search a literals string in a string and also find the location within the original string where the pattern occurs\n",
    "\n",
    "Sample text : 'The quick brown fox jumps over the lazy dog.'\n",
    "Searched words : 'fox'\n"
   ]
  },
  {
   "cell_type": "code",
   "execution_count": 20,
   "id": "57d31686",
   "metadata": {},
   "outputs": [
    {
     "name": "stdout",
     "output_type": "stream",
     "text": [
      "Pattern 'sample' found at the following locations:\n",
      "Location: 10\n"
     ]
    }
   ],
   "source": [
    "def search_literals(string, pattern):\n",
    "    found = []\n",
    "    i = 0\n",
    "    while i < len(string):\n",
    "        if string[i:i+len(pattern)] == pattern:\n",
    "            found.append(i)\n",
    "            i += len(pattern)\n",
    "        else:\n",
    "            i += 1\n",
    "    return found\n",
    "\n",
    "def main():\n",
    "    larger_string = \"This is a sample string to search for a literal string.\"\n",
    "    pattern = \"sample\"\n",
    "    locations = search_literals(larger_string, pattern)\n",
    "    \n",
    "    if len(locations) > 0:\n",
    "        print(f\"Pattern '{pattern}' found at the following locations:\")\n",
    "        for loc in locations:\n",
    "            print(f\"Location: {loc}\")\n",
    "    else:\n",
    "        print(f\"Pattern '{pattern}' not found in the string.\")\n",
    "\n",
    "if __name__ == \"__main__\":\n",
    "    main()"
   ]
  },
  {
   "cell_type": "raw",
   "id": "be04d032",
   "metadata": {},
   "source": [
    "Question 17- Write a Python program to find the substrings within a string.\n",
    "Sample text : 'Python exercises, PHP exercises, C# exercises'\n",
    "Pattern : 'exercises'.\n"
   ]
  },
  {
   "cell_type": "code",
   "execution_count": 23,
   "id": "b5b527ae",
   "metadata": {},
   "outputs": [
    {
     "name": "stdout",
     "output_type": "stream",
     "text": [
      "The pattern 'exercises' occurs at positions: [7, 22, 36]\n"
     ]
    }
   ],
   "source": [
    "def find_substrings(string, pattern):\n",
    "    positions = []\n",
    "    length = len(pattern)\n",
    "    for i in range(len(string)):\n",
    "        if string[i:i+length] == pattern:\n",
    "            positions.append(i)\n",
    "    return positions\n",
    "\n",
    "string = 'Python exercises, PHP exercises, C# exercises'\n",
    "pattern = 'exercises'\n",
    "\n",
    "result = find_substrings(string, pattern)\n",
    "print(f\"The pattern '{pattern}' occurs at positions: {result}\")"
   ]
  },
  {
   "cell_type": "raw",
   "id": "2f0933f7",
   "metadata": {},
   "source": [
    "\n",
    "Question 18- Write a Python program to find the occurrence and position of the substrings within a string.\n"
   ]
  },
  {
   "cell_type": "code",
   "execution_count": 25,
   "id": "6f82d4bf",
   "metadata": {},
   "outputs": [
    {
     "name": "stdout",
     "output_type": "stream",
     "text": [
      "Substring: you\n",
      "Occurrences: 2\n",
      "Positions: [15, 27]\n",
      "\n",
      "Substring: are\n",
      "Occurrences: 2\n",
      "Positions: [11, 31]\n",
      "\n"
     ]
    }
   ],
   "source": [
    "def find_substrings(string, substrings):\n",
    "    results = []\n",
    "    for substring in substrings:\n",
    "        occurrences = string.count(substring)\n",
    "        positions = []\n",
    "        start = 0\n",
    "        while True:\n",
    "            position = string.find(substring, start)\n",
    "            if position == -1:\n",
    "                break\n",
    "            positions.append(position)\n",
    "            start = position + 1\n",
    "        results.append({\"substring\": substring, \"occurrences\": occurrences, \"positions\": positions})\n",
    "    return results\n",
    "\n",
    "# Example usage\n",
    "string = \"Hello, how are you? I hope you are doing well.\"\n",
    "substrings = [\"you\", \"are\"]\n",
    "results = find_substrings(string, substrings)\n",
    "for result in results:\n",
    "    print(f\"Substring: {result['substring']}\")\n",
    "    print(f\"Occurrences: {result['occurrences']}\")\n",
    "    print(f\"Positions: {result['positions']}\")\n",
    "    print()"
   ]
  },
  {
   "cell_type": "raw",
   "id": "48cfb8f6",
   "metadata": {},
   "source": [
    "Question 19- Write a Python program to convert a date of yyyy-mm-dd format to dd-mm-yyyy format."
   ]
  },
  {
   "cell_type": "code",
   "execution_count": 26,
   "id": "b06bd9f0",
   "metadata": {},
   "outputs": [
    {
     "name": "stdout",
     "output_type": "stream",
     "text": [
      "Enter a date in yyyy-mm-dd format: 2022-01-29\n",
      "Converted date: 29-01-2022\n"
     ]
    }
   ],
   "source": [
    "def convert_date(date):\n",
    "    # Split the date into year, month, and day\n",
    "    year, month, day = date.split('-')\n",
    "\n",
    "    # Reorder the date components\n",
    "    new_date = f\"{day}-{month}-{year}\"\n",
    "\n",
    "    return new_date\n",
    "\n",
    "# Test the function\n",
    "date = input(\"Enter a date in yyyy-mm-dd format: \")\n",
    "converted_date = convert_date(date)\n",
    "print(\"Converted date:\", converted_date)"
   ]
  },
  {
   "cell_type": "raw",
   "id": "276eb96d",
   "metadata": {},
   "source": [
    "Question 20- Write a Python program to find all words starting with 'a' or 'e' in a given string."
   ]
  },
  {
   "cell_type": "code",
   "execution_count": 27,
   "id": "ddb7fa70",
   "metadata": {},
   "outputs": [
    {
     "name": "stdout",
     "output_type": "stream",
     "text": [
      "Enter a string: hi i am abhijeeth i eat food at night\n",
      "Words starting with 'a' or 'e': ['am', 'abhijeeth', 'eat', 'at']\n"
     ]
    }
   ],
   "source": [
    "def find_words_starting_with_a_or_e(string):\n",
    "    words = string.split()  # Split the string into individual words\n",
    "    result = []\n",
    "    for word in words:\n",
    "        if word[0].lower() == 'a' or word[0].lower() == 'e':\n",
    "            result.append(word)\n",
    "    return result\n",
    "\n",
    "# Prompt the user to enter a string\n",
    "input_string = input(\"Enter a string: \")\n",
    "\n",
    "# Call the function with the input string and print the result\n",
    "matching_words = find_words_starting_with_a_or_e(input_string)\n",
    "print(\"Words starting with 'a' or 'e':\", matching_words)"
   ]
  },
  {
   "cell_type": "raw",
   "id": "f730ef72",
   "metadata": {},
   "source": [
    "Question 21- Write a Python program to separate and print the numbers and their position of a given string."
   ]
  },
  {
   "cell_type": "code",
   "execution_count": 28,
   "id": "24121c10",
   "metadata": {},
   "outputs": [
    {
     "name": "stdout",
     "output_type": "stream",
     "text": [
      "Enter a string: abhgg, jngg,525,96\n",
      "Number: 525, Position: 12\n",
      "Number: 96, Position: 16\n"
     ]
    }
   ],
   "source": [
    "import re\n",
    "\n",
    "def separate_numbers(string):\n",
    "    pattern = r'\\d+'\n",
    "    matches = re.finditer(pattern, string)\n",
    "    numbers = []\n",
    "    for match in matches:\n",
    "        number = match.group()\n",
    "        position = match.start()\n",
    "        numbers.append((number, position))\n",
    "    return numbers\n",
    "\n",
    "# Test the function\n",
    "test_string = input(\"Enter a string: \")\n",
    "number_positions = separate_numbers(test_string)\n",
    "for number, position in number_positions:\n",
    "    print(f\"Number: {number}, Position: {position}\")\n"
   ]
  },
  {
   "cell_type": "raw",
   "id": "a57d7889",
   "metadata": {},
   "source": [
    "Question 22- Write a regular expression in python program to extract maximum numeric value from a string"
   ]
  },
  {
   "cell_type": "code",
   "execution_count": 29,
   "id": "e9c6ef17",
   "metadata": {},
   "outputs": [
    {
     "name": "stdout",
     "output_type": "stream",
     "text": [
      "Enter a string: 8787 90 8\n",
      "Maximum numeric value: 8787\n"
     ]
    }
   ],
   "source": [
    "import re\n",
    "\n",
    "def extract_maximum_numeric_value(string):\n",
    "    pattern = r'\\d+'\n",
    "    numbers = re.findall(pattern, string)\n",
    "    if numbers:\n",
    "        max_number = max(map(int, numbers))\n",
    "        return max_number\n",
    "    else:\n",
    "        return None\n",
    "\n",
    "# Test the function\n",
    "test_string = input(\"Enter a string: \")\n",
    "max_number = extract_maximum_numeric_value(test_string)\n",
    "if max_number is not None:\n",
    "    print(\"Maximum numeric value:\", max_number)\n",
    "else:\n",
    "    print(\"No numeric value found in the string.\")\n"
   ]
  },
  {
   "cell_type": "raw",
   "id": "d0bfc701",
   "metadata": {},
   "source": [
    "\n",
    "Question 23- Write a Regex in Python to put spaces between words starting with capital letters"
   ]
  },
  {
   "cell_type": "code",
   "execution_count": 30,
   "id": "bf8002ba",
   "metadata": {},
   "outputs": [
    {
     "name": "stdout",
     "output_type": "stream",
     "text": [
      "Enter the stringHelloWorldThisIsARegexExample\n",
      "Hello World This Is A Regex Example\n"
     ]
    }
   ],
   "source": [
    "import re\n",
    "\n",
    "text=input(\"Enter the string\")\n",
    "\n",
    "result = re.sub(r'(?<!^)(?=[A-Z])', ' ', text)\n",
    "\n",
    "print(result)"
   ]
  },
  {
   "cell_type": "raw",
   "id": "c1fa6098",
   "metadata": {},
   "source": [
    "\n",
    "Question 24- Python regex to find sequences of one upper case letter followed by lower case letters"
   ]
  },
  {
   "cell_type": "code",
   "execution_count": 31,
   "id": "d90565a2",
   "metadata": {},
   "outputs": [
    {
     "name": "stdout",
     "output_type": "stream",
     "text": [
      "Enter the string:HelloWorld is a great example ofCamelCase\n",
      "['Hello', 'World', 'Camel', 'Case']\n"
     ]
    }
   ],
   "source": [
    "import re\n",
    "\n",
    "text=input(\"Enter the string:\")\n",
    "pattern = r'[A-Z][a-z]+'\n",
    "\n",
    "matches = re.findall(pattern, text)\n",
    "print(matches)"
   ]
  },
  {
   "cell_type": "raw",
   "id": "0dd26bbe",
   "metadata": {},
   "source": [
    "Question 25- Write a Python program to remove duplicate words from Sentence using Regular Expression"
   ]
  },
  {
   "cell_type": "code",
   "execution_count": 32,
   "id": "d4d73b67",
   "metadata": {},
   "outputs": [
    {
     "name": "stdout",
     "output_type": "stream",
     "text": [
      "Enter the string value \n",
      "hello world hello world\n",
      "hello world\n"
     ]
    }
   ],
   "source": [
    "import re\n",
    "\n",
    "def remove_duplicates(sentence):\n",
    "    # Find all words in the sentence\n",
    "    words = re.findall(r'\\b\\w+\\b', sentence.lower())\n",
    "    \n",
    "    # Remove duplicates using set\n",
    "    unique_words = set(words)\n",
    "    \n",
    "    # Join the unique words back into a sentence\n",
    "    new_sentence = ' '.join(unique_words)\n",
    "    \n",
    "    return new_sentence\n",
    "\n",
    "# Example usage\n",
    "sentence = input(\"Enter the string value \\n\")\n",
    "new_sentence = remove_duplicates(sentence)\n",
    "print(new_sentence)"
   ]
  },
  {
   "cell_type": "raw",
   "id": "16305224",
   "metadata": {},
   "source": [
    "Question 26-  Write a python program using RegEx to accept string ending with alphanumeric character."
   ]
  },
  {
   "cell_type": "code",
   "execution_count": 33,
   "id": "ade756e6",
   "metadata": {},
   "outputs": [
    {
     "name": "stdout",
     "output_type": "stream",
     "text": [
      "Enter a string: asa@gmail.com\n",
      "Accepted\n"
     ]
    }
   ],
   "source": [
    "import re\n",
    "\n",
    "def accept_string(string):\n",
    "    pattern = r\"\\w$\"\n",
    "    result = re.search(pattern, string)\n",
    "    if result:\n",
    "        return \"Accepted\"\n",
    "    else:\n",
    "        return \"Not Accepted\"\n",
    "\n",
    "# Example usage\n",
    "input_string = input(\"Enter a string: \")\n",
    "print(accept_string(input_string))"
   ]
  },
  {
   "cell_type": "raw",
   "id": "8df5d5aa",
   "metadata": {},
   "source": [
    "Question 27-Write a python program using RegEx to extract the hashtags\n",
    "Sample Text: text = \"\"\"RT @kapil_kausik: #Doltiwal I mean #xyzabc is \"hurt\" by #Demonetization as the same has rendered USELESS <ed><U+00A0><U+00BD><ed><U+00B1><U+0089> \"acquired funds\" No wo\"\"\"\n",
    "Output: ['#Doltiwal', '#xyzabc', '#Demonetization']\n"
   ]
  },
  {
   "cell_type": "code",
   "execution_count": 34,
   "id": "f09e65e7",
   "metadata": {},
   "outputs": [
    {
     "name": "stdout",
     "output_type": "stream",
     "text": [
      "['programming', 'Python', 'codinglife']\n"
     ]
    }
   ],
   "source": [
    "import re\n",
    "\n",
    "def extract_hashtags(text):\n",
    "    hashtags = re.findall(r'#(\\w+)', text)\n",
    "    return hashtags\n",
    "\n",
    "# Example usage\n",
    "text = \"I love #programming and #Python! #codinglife\"\n",
    "hashtags = extract_hashtags(text)\n",
    "\n",
    "print(hashtags)"
   ]
  },
  {
   "cell_type": "raw",
   "id": "307fe615",
   "metadata": {},
   "source": [
    "Question 28- Write a python program using RegEx to remove <U+..> like symbols"
   ]
  },
  {
   "cell_type": "code",
   "execution_count": 35,
   "id": "5b71529e",
   "metadata": {},
   "outputs": [
    {
     "name": "stdout",
     "output_type": "stream",
     "text": [
      "Result: @Jags123456 Bharat band on 28??<ed><ed>Those who  are protesting #demonetization  are all different party leaders\n"
     ]
    }
   ],
   "source": [
    "import re\n",
    "\n",
    "def remove_u_plus_symbols(string):\n",
    "    pattern = r'<U\\+[A-Fa-f0-9]+>'\n",
    "    result = re.sub(pattern, '', string)\n",
    "    return result\n",
    "\n",
    "# Test the function\n",
    "test_string = \"@Jags123456 Bharat band on 28??<ed><U+00A0><U+00BD><ed><U+00B8><U+0082>Those who  are protesting #demonetization  are all different party leaders\"\n",
    "result_string = remove_u_plus_symbols(test_string)\n",
    "print(\"Result:\", result_string)\n"
   ]
  },
  {
   "cell_type": "raw",
   "id": "7599d75f",
   "metadata": {},
   "source": [
    "Question 29- Write a python program to extract dates from the text stored in the text file.\n",
    "Sample Text: Ron was born on 12-09-1992 and he was admitted to school 15-12-1999.\n",
    "Store this sample text in the file and then extract dates.\n"
   ]
  },
  {
   "cell_type": "code",
   "execution_count": 36,
   "id": "9ea9de77",
   "metadata": {},
   "outputs": [
    {
     "name": "stdout",
     "output_type": "stream",
     "text": [
      "Extracted dates: ['12-09-1992', '15-12-1999']\n"
     ]
    }
   ],
   "source": [
    "import re\n",
    "\n",
    "def extract_dates_from_file(file_path):\n",
    "    with open(file_path, 'r') as file:\n",
    "        content = file.read()\n",
    "\n",
    "    pattern = r'\\b\\d{2}-\\d{2}-\\d{4}\\b'\n",
    "    dates = re.findall(pattern, content)\n",
    "    return dates\n",
    "\n",
    "# Store the sample text in a file\n",
    "sample_text = \"Ron was born on 12-09-1992 and he was admitted to school 15-12-1999.\"\n",
    "file_path = 'sample_text.txt'\n",
    "with open(file_path, 'w') as file:\n",
    "    file.write(sample_text)\n",
    "\n",
    "# Extract dates from the file\n",
    "extracted_dates = extract_dates_from_file(file_path)\n",
    "print(\"Extracted dates:\", extracted_dates)\n"
   ]
  },
  {
   "cell_type": "raw",
   "id": "7d8d8c0c",
   "metadata": {},
   "source": [
    "Question 30- Write a Python program to replace all occurrences of a space, comma, or dot with a colon.\n",
    "Sample Text- 'Python Exercises, PHP exercises.'\n",
    "Output: Python:Exercises::PHP:exercises:\n"
   ]
  },
  {
   "cell_type": "code",
   "execution_count": 37,
   "id": "6bf3f593",
   "metadata": {},
   "outputs": [
    {
     "name": "stdout",
     "output_type": "stream",
     "text": [
      "Python:Exercises::PHP:exercises:\n"
     ]
    }
   ],
   "source": [
    "import re\n",
    "\n",
    "def replace_occurrences(text):\n",
    "    pattern = r'[ ,.]'\n",
    "    replacement = ':'\n",
    "    new_text = re.sub(pattern, replacement, text)\n",
    "    return new_text\n",
    "\n",
    "sample_text = 'Python Exercises, PHP exercises.'\n",
    "output = replace_occurrences(sample_text)\n",
    "print(output)"
   ]
  },
  {
   "cell_type": "code",
   "execution_count": null,
   "id": "2acd80ef",
   "metadata": {},
   "outputs": [],
   "source": []
  }
 ],
 "metadata": {
  "kernelspec": {
   "display_name": "Python 3 (ipykernel)",
   "language": "python",
   "name": "python3"
  },
  "language_info": {
   "codemirror_mode": {
    "name": "ipython",
    "version": 3
   },
   "file_extension": ".py",
   "mimetype": "text/x-python",
   "name": "python",
   "nbconvert_exporter": "python",
   "pygments_lexer": "ipython3",
   "version": "3.9.12"
  }
 },
 "nbformat": 4,
 "nbformat_minor": 5
}
